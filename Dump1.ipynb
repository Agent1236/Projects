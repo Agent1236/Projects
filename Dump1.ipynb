{
 "cells": [
  {
   "cell_type": "code",
   "execution_count": 1,
   "id": "dedba5dd",
   "metadata": {},
   "outputs": [
    {
     "data": {
      "text/plain": [
       "-1"
      ]
     },
     "execution_count": 1,
     "metadata": {},
     "output_type": "execute_result"
    }
   ],
   "source": [
    "# Feature matching\n",
    "\n",
    "import cv2\n",
    "\n",
    "img1 = cv2.imread('board.jpg')\n",
    "img2 = cv2.imread('sample3.jpg')\n",
    "\n",
    "orb = cv2.ORB_create(nfeatures=500)\n",
    "kp1, des1 = orb.detectAndCompute(img1, None)\n",
    "kp2, des2 = orb.detectAndCompute(img2, None)\n",
    "\n",
    "bf = cv2.BFMatcher(cv2.NORM_HAMMING, crossCheck=True)\n",
    "matches = bf.match(des1, des2)\n",
    "matches = sorted(matches, key=lambda x:x.distance)\n",
    "\n",
    "match_img = cv2.drawMatches(img1, kp1, img2, kp2, matches[:50], None)\n",
    "cv2.imshow('Orgiginal Image', img1)\n",
    "cv2.imshow('Test image', img2)\n",
    "cv2.imshow('Matched', match_img)\n",
    "cv2.waitKey()"
   ]
  },
  {
   "cell_type": "code",
   "execution_count": 3,
   "id": "e92812f2",
   "metadata": {},
   "outputs": [
    {
     "ename": "SyntaxError",
     "evalue": "(unicode error) 'unicodeescape' codec can't decode bytes in position 2-3: truncated \\UXXXXXXXX escape (1855447864.py, line 7)",
     "output_type": "error",
     "traceback": [
      "\u001b[1;36m  Cell \u001b[1;32mIn[3], line 7\u001b[1;36m\u001b[0m\n\u001b[1;33m    cascade = cv2.CascadeClassifier('C:\\Users\\pgdew\\HaarCascadeTesting\\cascade\\cascade.xml')\u001b[0m\n\u001b[1;37m                                                                                           ^\u001b[0m\n\u001b[1;31mSyntaxError\u001b[0m\u001b[1;31m:\u001b[0m (unicode error) 'unicodeescape' codec can't decode bytes in position 2-3: truncated \\UXXXXXXXX escape\n"
     ]
    }
   ],
   "source": [
    "# Chess board detection using haar cascade classifier\n",
    "\n",
    "import numpy\n",
    "import cv2\n",
    "import math\n",
    "\n",
    "cascade = cv2.CascadeClassifier('C:\\Users\\pgdew\\HaarCascadeTesting\\cascade\\cascade.xml')\n",
    "\n",
    "img = cv2.imread(\"sample3.jpg\")\n",
    "\n",
    "gray = cv2.cvtColor(img, cv2.COLOR_BGR2GRAY)\n",
    "land = cascade.detectMultiScale(gray, 10, 10)\n",
    "for (x, y, w, h) in land:\n",
    "    cv2.rectangle(img, (x,y), (x+w, y+h), (0, 0, 255), 5)\n",
    "    roi_gray = gray[y:y+h, x:x+w]\n",
    "    roi_color = img[y:y+h, x:x+w]\n",
    "    print(\"Starting\")\n",
    "cv2.imshow(\"Image\", img)\n",
    "cv2.waitKey(0)"
   ]
  },
  {
   "cell_type": "code",
   "execution_count": 1,
   "id": "cdf8eba9",
   "metadata": {},
   "outputs": [
    {
     "name": "stdout",
     "output_type": "stream",
     "text": [
      "85.35\n"
     ]
    }
   ],
   "source": [
    "f = 85.34875934503\n",
    "f = '{0:.4g}'.format(f)\n",
    "print(f)"
   ]
  },
  {
   "cell_type": "code",
   "execution_count": 2,
   "id": "e57bb6cf",
   "metadata": {},
   "outputs": [],
   "source": [
    "import cv2\n",
    "\n",
    "video = cv2.VideoCapture(0)\n",
    "\n",
    "while True:\n",
    "    ret, frame = video.read()\n",
    "    cv2.imshow('frame0', frame)\n",
    "\n",
    "    if (cv2.waitKey(1) & 0xFF == ord('q')):\n",
    "        break\n",
    "\n",
    "video.release()\n",
    "cv2.destroyAllWindows()"
   ]
  },
  {
   "cell_type": "code",
   "execution_count": 26,
   "id": "7b3bc06d",
   "metadata": {},
   "outputs": [
    {
     "name": "stdout",
     "output_type": "stream",
     "text": [
      "Form Data:\n",
      "['INTERESTS[f28a11b5ae]', 'FNAME', 'EMAIL', None, '_mc4wp_honeypot', '_mc4wp_timestamp', '_mc4wp_form_id', '_mc4wp_form_element_id']\n"
     ]
    }
   ],
   "source": [
    "import requests\n",
    "from bs4 import BeautifulSoup\n",
    "\n",
    "def ReadForm(url):\n",
    "    txt = []\n",
    "    try:\n",
    "        response = requests.get(url)\n",
    "\n",
    "        if response.status_code != 200:\n",
    "            print(\"Failed to fetch the web page.\")\n",
    "            return\n",
    "\n",
    "        soup = BeautifulSoup(response.content, \"html.parser\")\n",
    "\n",
    "        form = soup.find(\"form\")\n",
    "\n",
    "        if not form:\n",
    "            print(\"No form found on the web page.\")\n",
    "            return\n",
    "\n",
    "        form_data = {}\n",
    "        for input_element in form.find_all(\"input\"):\n",
    "            name = input_element.get(\"name\")\n",
    "            value = input_element.get(\"value\", \"\")\n",
    "            type = input_element.get(\"type\")\n",
    "            form_data[name] = value\n",
    "\n",
    "        for key, type in form_data.items():\n",
    "            if type != \"hidden\":\n",
    "                txt.append(key)\n",
    "        #txt.remove(txt[0])\n",
    "        print(txt)\n",
    "\n",
    "    except Exception as e:\n",
    "        print(f\"An error occurred: {e}\")\n",
    "\n",
    "if __name__ == \"__main__\":\n",
    "    url = \"https://angelpad.com\"\n",
    "    ReadForm(url)"
   ]
  },
  {
   "cell_type": "code",
   "execution_count": 1,
   "id": "d96d0c4a",
   "metadata": {},
   "outputs": [
    {
     "name": "stdout",
     "output_type": "stream",
     "text": [
      "An error occurred: tesseract is not installed or it's not in your PATH. See README file for more information.\n"
     ]
    }
   ],
   "source": [
    "import pyautogui\n",
    "import pytesseract\n",
    "import time\n",
    "\n",
    "def FindApply():\n",
    "    try:\n",
    "        screenshot = pyautogui.screenshot()\n",
    "\n",
    "        ocr_result = pytesseract.image_to_string(screenshot)\n",
    "        ocr_result_lower = ocr_result.lower()\n",
    "\n",
    "        if \"apply\" in ocr_result_lower:\n",
    "            apply_position = ocr_result_lower.find(\"apply\")\n",
    "            x, y = pyautogui.center((0, apply_position, screenshot.width, apply_position + 10))\n",
    "            pyautogui.click(x, y)\n",
    "            print(\"Clicked the 'Apply' text.\")\n",
    "        else:\n",
    "            print(\"Could not find the 'Apply' text on the screen.\")\n",
    "\n",
    "    except Exception as e:\n",
    "        print(f\"An error occurred: {e}\")\n",
    "\n",
    "if __name__ == \"__main__\":\n",
    "    time.sleep(3)\n",
    "    FindApply()"
   ]
  },
  {
   "cell_type": "code",
   "execution_count": null,
   "id": "5d2ad7b7",
   "metadata": {},
   "outputs": [],
   "source": []
  }
 ],
 "metadata": {
  "kernelspec": {
   "display_name": "Python 3 (ipykernel)",
   "language": "python",
   "name": "python3"
  },
  "language_info": {
   "codemirror_mode": {
    "name": "ipython",
    "version": 3
   },
   "file_extension": ".py",
   "mimetype": "text/x-python",
   "name": "python",
   "nbconvert_exporter": "python",
   "pygments_lexer": "ipython3",
   "version": "3.10.9"
  }
 },
 "nbformat": 4,
 "nbformat_minor": 5
}
