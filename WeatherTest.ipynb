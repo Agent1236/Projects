{
 "cells": [
  {
   "cell_type": "code",
   "execution_count": 169,
   "id": "3b9933ac",
   "metadata": {},
   "outputs": [],
   "source": [
    "# imports\n",
    "import datetime\n",
    "from datetime import datetime as dttm\n",
    "from datetime import date\n",
    "import matplotlib.pyplot as plt\n",
    "from meteostat import Point, Daily\n",
    "import pandas as pd\n",
    "import numpy as np\n",
    "%matplotlib inline\n",
    "from matplotlib.pylab import rcParams\n",
    "rcParams['figure.figsize']=20,10\n",
    "from geopy.geocoders import Nominatim\n",
    "from sklearn.linear_model import Ridge\n",
    "from datetime import timedelta\n",
    "from sklearn.metrics import mean_absolute_error"
   ]
  },
  {
   "cell_type": "code",
   "execution_count": 170,
   "id": "f77243da",
   "metadata": {},
   "outputs": [],
   "source": [
    "# location name to coordinates\n",
    "def coord(location):\n",
    "    geolocator = Nominatim(user_agent = \"predictor\")\n",
    "    return geolocator.geocode(location)"
   ]
  },
  {
   "cell_type": "code",
   "execution_count": 171,
   "id": "62570063",
   "metadata": {},
   "outputs": [],
   "source": [
    "# set time period\n",
    "today = date.today()\n",
    "de = int(today.strftime(\"%d\"))\n",
    "me = int(today.strftime(\"%m\"))\n",
    "ye = int(today.strftime(\"%Y\"))\n",
    "start = dttm(2021, 1, 2)\n",
    "end = dttm(ye, me, de)"
   ]
  },
  {
   "cell_type": "code",
   "execution_count": 172,
   "id": "d7826700",
   "metadata": {},
   "outputs": [
    {
     "name": "stdout",
     "output_type": "stream",
     "text": [
      "Enter a city - raipur\n"
     ]
    }
   ],
   "source": [
    "# get place\n",
    "city = input('Enter a city - ')\n",
    "x = coord(city)\n",
    "lat = int(x.latitude)\n",
    "lon = int(x.longitude)\n",
    "place = Point(lat, lon)\n",
    "#place = Point(21.2120677, 81.3732849)"
   ]
  },
  {
   "cell_type": "code",
   "execution_count": 173,
   "id": "e99bce6b",
   "metadata": {},
   "outputs": [],
   "source": [
    "# get data\n",
    "data = Daily(place, start, end)\n",
    "data = data.fetch()"
   ]
  },
  {
   "cell_type": "code",
   "execution_count": 174,
   "id": "3a91b94d",
   "metadata": {
    "scrolled": false
   },
   "outputs": [],
   "source": [
    "weather = pd.DataFrame(data)\n",
    "weather.drop(['tavg', 'snow', 'wspd', 'wdir', 'wpgt', 'pres', 'tsun'], axis = 1, inplace = True)\n",
    "print(weather)"
   ]
  },
  {
   "cell_type": "code",
   "execution_count": 175,
   "id": "5983cf87",
   "metadata": {},
   "outputs": [],
   "source": [
    "weather.apply(pd.isnull).sum()"
   ]
  },
  {
   "cell_type": "code",
   "execution_count": 176,
   "id": "2f69a67c",
   "metadata": {},
   "outputs": [],
   "source": [
    "weather['prcp'] = weather['prcp'].fillna(0)"
   ]
  },
  {
   "cell_type": "code",
   "execution_count": 177,
   "id": "9136f34d",
   "metadata": {},
   "outputs": [],
   "source": [
    "weather[pd.isnull(weather['tmax'])]"
   ]
  },
  {
   "cell_type": "code",
   "execution_count": 178,
   "id": "5217c7d5",
   "metadata": {},
   "outputs": [],
   "source": [
    "weather = weather.fillna(method = 'ffill')"
   ]
  },
  {
   "cell_type": "code",
   "execution_count": 179,
   "id": "219803eb",
   "metadata": {},
   "outputs": [],
   "source": [
    "weather.apply(pd.isnull).sum()"
   ]
  },
  {
   "cell_type": "code",
   "execution_count": 180,
   "id": "b20f307d",
   "metadata": {},
   "outputs": [],
   "source": [
    "weather.dtypes"
   ]
  },
  {
   "cell_type": "code",
   "execution_count": 181,
   "id": "d2004c25",
   "metadata": {},
   "outputs": [],
   "source": [
    "weather.index"
   ]
  },
  {
   "cell_type": "code",
   "execution_count": 182,
   "id": "7b541bf2",
   "metadata": {},
   "outputs": [],
   "source": [
    "#print(np.isinf(weather).values.sum())"
   ]
  },
  {
   "cell_type": "code",
   "execution_count": 183,
   "id": "b2f0e7df",
   "metadata": {},
   "outputs": [],
   "source": [
    "weather[['tmax', 'tmin']].plot()"
   ]
  },
  {
   "cell_type": "code",
   "execution_count": 184,
   "id": "262b3dd7",
   "metadata": {},
   "outputs": [],
   "source": [
    "weather['prcp'].plot()"
   ]
  },
  {
   "cell_type": "code",
   "execution_count": 185,
   "id": "fb0a7a08",
   "metadata": {},
   "outputs": [],
   "source": [
    "weather"
   ]
  },
  {
   "cell_type": "code",
   "execution_count": 186,
   "id": "4fb57d2b",
   "metadata": {},
   "outputs": [],
   "source": [
    "weather['target'] = weather.shift(-1)['tmax']"
   ]
  },
  {
   "cell_type": "code",
   "execution_count": 187,
   "id": "dd19156f",
   "metadata": {},
   "outputs": [],
   "source": [
    "weather"
   ]
  },
  {
   "cell_type": "code",
   "execution_count": 188,
   "id": "1e844a52",
   "metadata": {},
   "outputs": [],
   "source": [
    "weather = weather.iloc[:-1,:].copy()"
   ]
  },
  {
   "cell_type": "code",
   "execution_count": 189,
   "id": "6898c1a8",
   "metadata": {},
   "outputs": [],
   "source": [
    "weather"
   ]
  },
  {
   "cell_type": "code",
   "execution_count": 190,
   "id": "79b35e23",
   "metadata": {},
   "outputs": [],
   "source": [
    "reg = Ridge(alpha = 0.1)"
   ]
  },
  {
   "cell_type": "code",
   "execution_count": 191,
   "id": "a4fc9287",
   "metadata": {},
   "outputs": [],
   "source": [
    "predictors = ['prcp', 'tmax', 'tmin']"
   ]
  },
  {
   "cell_type": "code",
   "execution_count": 192,
   "id": "e27dd5df",
   "metadata": {},
   "outputs": [],
   "source": [
    "train = weather.loc[:'2022-08-31']"
   ]
  },
  {
   "cell_type": "code",
   "execution_count": 193,
   "id": "a8a8e8ff",
   "metadata": {},
   "outputs": [],
   "source": [
    "test = weather.loc['2022-09-01':]"
   ]
  },
  {
   "cell_type": "code",
   "execution_count": 194,
   "id": "6cfa8143",
   "metadata": {},
   "outputs": [],
   "source": [
    "reg.fit(train[predictors], train['target'])"
   ]
  },
  {
   "cell_type": "code",
   "execution_count": 195,
   "id": "a41295bb",
   "metadata": {},
   "outputs": [],
   "source": [
    "predictions = reg.predict(test[predictors])"
   ]
  },
  {
   "cell_type": "code",
   "execution_count": 196,
   "id": "b61669a1",
   "metadata": {},
   "outputs": [],
   "source": [
    "mean_absolute_error(test['target'], predictions)"
   ]
  },
  {
   "cell_type": "code",
   "execution_count": 197,
   "id": "386edc7d",
   "metadata": {},
   "outputs": [],
   "source": [
    "combined = pd.concat([test['target'], pd.Series(predictions, index = test.index)], axis = 1)\n",
    "combined.columns = ['actuals', 'predictions']"
   ]
  },
  {
   "cell_type": "code",
   "execution_count": 198,
   "id": "b1f62f5c",
   "metadata": {},
   "outputs": [],
   "source": [
    "combined"
   ]
  },
  {
   "cell_type": "code",
   "execution_count": 199,
   "id": "e1c5a0fe",
   "metadata": {},
   "outputs": [],
   "source": [
    "combined.plot()"
   ]
  },
  {
   "cell_type": "code",
   "execution_count": 200,
   "id": "f5e67a20",
   "metadata": {},
   "outputs": [],
   "source": [
    "reg.coef_"
   ]
  },
  {
   "cell_type": "code",
   "execution_count": 201,
   "id": "db4ccdba",
   "metadata": {},
   "outputs": [],
   "source": [
    "def predictor(predictors, waether, reg):\n",
    "    train = weather.loc[:'2022-08-31']\n",
    "    test = weather.loc['2022-09-01':]\n",
    "    reg.fit(train[predictors], train['target'])\n",
    "    predictions = reg.predict(test[predictors])\n",
    "    error = mean_absolute_error(test['target'], predictions)\n",
    "    combined = pd.concat([test['target'], pd.Series(predictions, index = test.index)], axis = 1)\n",
    "    combined.columns = ['actuals', 'predictions']\n",
    "    return error, combined"
   ]
  },
  {
   "cell_type": "code",
   "execution_count": 202,
   "id": "baac9dec",
   "metadata": {},
   "outputs": [],
   "source": [
    "weather['month_max'] = weather['tmax'].rolling(30).mean()"
   ]
  },
  {
   "cell_type": "code",
   "execution_count": 203,
   "id": "e7742f31",
   "metadata": {},
   "outputs": [],
   "source": [
    "weather"
   ]
  },
  {
   "cell_type": "code",
   "execution_count": 204,
   "id": "8a6ba1e8",
   "metadata": {},
   "outputs": [],
   "source": [
    "weather['month_day_max'] = weather['month_max'] / weather['tmax']"
   ]
  },
  {
   "cell_type": "code",
   "execution_count": 205,
   "id": "5703b4fe",
   "metadata": {},
   "outputs": [],
   "source": [
    "weather['max_min'] = weather['tmax'] / weather['tmin']"
   ]
  },
  {
   "cell_type": "code",
   "execution_count": 206,
   "id": "0af0aa4d",
   "metadata": {},
   "outputs": [],
   "source": [
    "predictors = ['prcp', 'tmax', 'tmin', 'month_max', 'month_day_max', 'max_min']"
   ]
  },
  {
   "cell_type": "code",
   "execution_count": 207,
   "id": "e203951e",
   "metadata": {},
   "outputs": [],
   "source": [
    "weather = weather.iloc[30:,:].copy()"
   ]
  },
  {
   "cell_type": "code",
   "execution_count": 208,
   "id": "221ead62",
   "metadata": {},
   "outputs": [],
   "source": [
    "error, combined = predictor(predictors, weather, reg)"
   ]
  },
  {
   "cell_type": "code",
   "execution_count": 209,
   "id": "1db6c379",
   "metadata": {},
   "outputs": [],
   "source": [
    "error"
   ]
  },
  {
   "cell_type": "code",
   "execution_count": 210,
   "id": "f51a46c9",
   "metadata": {},
   "outputs": [],
   "source": [
    "combined.plot()"
   ]
  },
  {
   "cell_type": "code",
   "execution_count": 211,
   "id": "6285029c",
   "metadata": {},
   "outputs": [],
   "source": [
    "weather['monthly_avg'] = weather['tmax'].groupby(weather.index.month, group_keys=False).apply(lambda x : x.expanding(1).mean())"
   ]
  },
  {
   "cell_type": "code",
   "execution_count": 212,
   "id": "e7a18f2a",
   "metadata": {},
   "outputs": [],
   "source": [
    "weather"
   ]
  },
  {
   "cell_type": "code",
   "execution_count": 213,
   "id": "5d0a3d33",
   "metadata": {},
   "outputs": [],
   "source": [
    "weather['day_of_year_avg'] = weather['tmax'].groupby(weather.index.day_of_year, group_keys=False).apply(lambda x : x.expanding(1).mean())"
   ]
  },
  {
   "cell_type": "code",
   "execution_count": 214,
   "id": "d3099d16",
   "metadata": {},
   "outputs": [],
   "source": [
    "predictors = ['prcp', 'tmax', 'tmin', 'month_max', 'month_day_max', 'max_min', 'day_of_year_avg', 'monthly_avg']"
   ]
  },
  {
   "cell_type": "code",
   "execution_count": 215,
   "id": "c2bcf0a0",
   "metadata": {},
   "outputs": [],
   "source": [
    "error, combined = predictor(predictors, weather, reg)"
   ]
  },
  {
   "cell_type": "code",
   "execution_count": 216,
   "id": "5b7b0697",
   "metadata": {},
   "outputs": [],
   "source": [
    "error"
   ]
  },
  {
   "cell_type": "code",
   "execution_count": 217,
   "id": "00f9f499",
   "metadata": {},
   "outputs": [],
   "source": [
    "combined"
   ]
  },
  {
   "cell_type": "code",
   "execution_count": null,
   "id": "f980292a",
   "metadata": {},
   "outputs": [],
   "source": []
  }
 ],
 "metadata": {
  "kernelspec": {
   "display_name": "Python 3 (ipykernel)",
   "language": "python",
   "name": "python3"
  },
  "language_info": {
   "codemirror_mode": {
    "name": "ipython",
    "version": 3
   },
   "file_extension": ".py",
   "mimetype": "text/x-python",
   "name": "python",
   "nbconvert_exporter": "python",
   "pygments_lexer": "ipython3",
   "version": "3.10.9"
  },
  "vscode": {
   "interpreter": {
    "hash": "08a8420675f1b3e919f19bb1a25f33adc0d3ad8b706c044353857e93ddf14cda"
   }
  }
 },
 "nbformat": 4,
 "nbformat_minor": 5
}
