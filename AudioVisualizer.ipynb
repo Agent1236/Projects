{
 "cells": [
  {
   "cell_type": "code",
   "execution_count": 1,
   "id": "bd7ccfdf",
   "metadata": {},
   "outputs": [
    {
     "name": "stdout",
     "output_type": "stream",
     "text": [
      "pygame 2.1.2 (SDL 2.0.18, Python 3.10.9)\n",
      "Hello from the pygame community. https://www.pygame.org/contribute.html\n"
     ]
    }
   ],
   "source": [
    "import librosa\n",
    "import numpy as np\n",
    "import pygame"
   ]
  },
  {
   "cell_type": "code",
   "execution_count": 2,
   "id": "969dc2db",
   "metadata": {},
   "outputs": [],
   "source": [
    "def clamp(min_value, max_value, value):\n",
    "    if value < min_value:\n",
    "        return min_value\n",
    "    if value > max_value:\n",
    "        return max_value\n",
    "    return value"
   ]
  },
  {
   "cell_type": "code",
   "execution_count": 3,
   "id": "09641e4c",
   "metadata": {},
   "outputs": [],
   "source": [
    "class AudioBar:\n",
    "\n",
    "    def __init__(self, x, y, freq, color, width=50, min_height=10, max_height=100, min_decibel=-80, max_decibel=0):\n",
    "        self.x, self.y, self.freq = x, y, freq\n",
    "        self.color = color\n",
    "        self.width, self.min_height, self.max_height = width, min_height, max_height\n",
    "        self.height = min_height\n",
    "        self.min_decibel, self.max_decibel = min_decibel, max_decibel\n",
    "        self.__decibel_height_ratio = (self.max_height - self.min_height)/(self.max_decibel - self.min_decibel)\n",
    "\n",
    "    def update(self, dt, decibel):\n",
    "        desired_height = decibel * self.__decibel_height_ratio + self.max_height\n",
    "        speed = (desired_height - self.height)/0.1\n",
    "        self.height += speed * dt\n",
    "        self.height = clamp(self.min_height, self.max_height, self.height)\n",
    "\n",
    "    def render(self, screen):\n",
    "        pygame.draw.rect(screen, self.color, (self.x, self.y + self.max_height - self.height, self.width, self.height))"
   ]
  },
  {
   "cell_type": "code",
   "execution_count": 4,
   "id": "e4617c51",
   "metadata": {},
   "outputs": [
    {
     "name": "stderr",
     "output_type": "stream",
     "text": [
      "c:\\Users\\pgdew\\miniconda3\\lib\\site-packages\\librosa\\util\\decorators.py:88: UserWarning: PySoundFile failed. Trying audioread instead.\n",
      "  return f(*args, **kwargs)\n"
     ]
    },
    {
     "ename": "FileNotFoundError",
     "evalue": "[Errno 2] No such file or directory: 'C:/Users/pgdew/Music/Rosendale - Two Hearts.wav'",
     "output_type": "error",
     "traceback": [
      "\u001b[1;31m---------------------------------------------------------------------------\u001b[0m",
      "\u001b[1;31mLibsndfileError\u001b[0m                           Traceback (most recent call last)",
      "File \u001b[1;32mc:\\Users\\pgdew\\miniconda3\\lib\\site-packages\\librosa\\core\\audio.py:164\u001b[0m, in \u001b[0;36mload\u001b[1;34m(path, sr, mono, offset, duration, dtype, res_type)\u001b[0m\n\u001b[0;32m    163\u001b[0m \u001b[39mtry\u001b[39;00m:\n\u001b[1;32m--> 164\u001b[0m     y, sr_native \u001b[39m=\u001b[39m __soundfile_load(path, offset, duration, dtype)\n\u001b[0;32m    166\u001b[0m \u001b[39mexcept\u001b[39;00m \u001b[39mRuntimeError\u001b[39;00m \u001b[39mas\u001b[39;00m exc:\n\u001b[0;32m    167\u001b[0m     \u001b[39m# If soundfile failed, try audioread instead\u001b[39;00m\n",
      "File \u001b[1;32mc:\\Users\\pgdew\\miniconda3\\lib\\site-packages\\librosa\\core\\audio.py:195\u001b[0m, in \u001b[0;36m__soundfile_load\u001b[1;34m(path, offset, duration, dtype)\u001b[0m\n\u001b[0;32m    193\u001b[0m \u001b[39melse\u001b[39;00m:\n\u001b[0;32m    194\u001b[0m     \u001b[39m# Otherwise, create the soundfile object\u001b[39;00m\n\u001b[1;32m--> 195\u001b[0m     context \u001b[39m=\u001b[39m sf\u001b[39m.\u001b[39;49mSoundFile(path)\n\u001b[0;32m    197\u001b[0m \u001b[39mwith\u001b[39;00m context \u001b[39mas\u001b[39;00m sf_desc:\n",
      "File \u001b[1;32mc:\\Users\\pgdew\\miniconda3\\lib\\site-packages\\soundfile.py:655\u001b[0m, in \u001b[0;36mSoundFile.__init__\u001b[1;34m(self, file, mode, samplerate, channels, subtype, endian, format, closefd)\u001b[0m\n\u001b[0;32m    653\u001b[0m \u001b[39mself\u001b[39m\u001b[39m.\u001b[39m_info \u001b[39m=\u001b[39m _create_info_struct(file, mode, samplerate, channels,\n\u001b[0;32m    654\u001b[0m                                  \u001b[39mformat\u001b[39m, subtype, endian)\n\u001b[1;32m--> 655\u001b[0m \u001b[39mself\u001b[39m\u001b[39m.\u001b[39m_file \u001b[39m=\u001b[39m \u001b[39mself\u001b[39;49m\u001b[39m.\u001b[39;49m_open(file, mode_int, closefd)\n\u001b[0;32m    656\u001b[0m \u001b[39mif\u001b[39;00m \u001b[39mset\u001b[39m(mode)\u001b[39m.\u001b[39missuperset(\u001b[39m'\u001b[39m\u001b[39mr+\u001b[39m\u001b[39m'\u001b[39m) \u001b[39mand\u001b[39;00m \u001b[39mself\u001b[39m\u001b[39m.\u001b[39mseekable():\n\u001b[0;32m    657\u001b[0m     \u001b[39m# Move write position to 0 (like in Python file objects)\u001b[39;00m\n",
      "File \u001b[1;32mc:\\Users\\pgdew\\miniconda3\\lib\\site-packages\\soundfile.py:1213\u001b[0m, in \u001b[0;36mSoundFile._open\u001b[1;34m(self, file, mode_int, closefd)\u001b[0m\n\u001b[0;32m   1212\u001b[0m     err \u001b[39m=\u001b[39m _snd\u001b[39m.\u001b[39msf_error(file_ptr)\n\u001b[1;32m-> 1213\u001b[0m     \u001b[39mraise\u001b[39;00m LibsndfileError(err, prefix\u001b[39m=\u001b[39m\u001b[39m\"\u001b[39m\u001b[39mError opening \u001b[39m\u001b[39m{0!r}\u001b[39;00m\u001b[39m: \u001b[39m\u001b[39m\"\u001b[39m\u001b[39m.\u001b[39mformat(\u001b[39mself\u001b[39m\u001b[39m.\u001b[39mname))\n\u001b[0;32m   1214\u001b[0m \u001b[39mif\u001b[39;00m mode_int \u001b[39m==\u001b[39m _snd\u001b[39m.\u001b[39mSFM_WRITE:\n\u001b[0;32m   1215\u001b[0m     \u001b[39m# Due to a bug in libsndfile version <= 1.0.25, frames != 0\u001b[39;00m\n\u001b[0;32m   1216\u001b[0m     \u001b[39m# when opening a named pipe in SFM_WRITE mode.\u001b[39;00m\n\u001b[0;32m   1217\u001b[0m     \u001b[39m# See http://github.com/erikd/libsndfile/issues/77.\u001b[39;00m\n",
      "\u001b[1;31mLibsndfileError\u001b[0m: Error opening 'C:/Users/pgdew/Music/Rosendale - Two Hearts.wav': System error.",
      "\nDuring handling of the above exception, another exception occurred:\n",
      "\u001b[1;31mFileNotFoundError\u001b[0m                         Traceback (most recent call last)",
      "Cell \u001b[1;32mIn[4], line 2\u001b[0m\n\u001b[0;32m      1\u001b[0m filename \u001b[39m=\u001b[39m \u001b[39m\"\u001b[39m\u001b[39mC:/Users/pgdew/Music/Rosendale - Two Hearts.wav\u001b[39m\u001b[39m\"\u001b[39m\n\u001b[1;32m----> 2\u001b[0m time_series, sample_rate \u001b[39m=\u001b[39m librosa\u001b[39m.\u001b[39;49mload(filename)  \u001b[39m# getting information from the file\u001b[39;00m\n\u001b[0;32m      4\u001b[0m \u001b[39m# getting a matrix which contains amplitude values according to frequency and time indexes\u001b[39;00m\n\u001b[0;32m      5\u001b[0m stft \u001b[39m=\u001b[39m np\u001b[39m.\u001b[39mabs(librosa\u001b[39m.\u001b[39mstft(time_series, hop_length\u001b[39m=\u001b[39m\u001b[39m512\u001b[39m, n_fft\u001b[39m=\u001b[39m\u001b[39m2048\u001b[39m\u001b[39m*\u001b[39m\u001b[39m4\u001b[39m))\n",
      "File \u001b[1;32mc:\\Users\\pgdew\\miniconda3\\lib\\site-packages\\librosa\\util\\decorators.py:88\u001b[0m, in \u001b[0;36mdeprecate_positional_args.<locals>._inner_deprecate_positional_args.<locals>.inner_f\u001b[1;34m(*args, **kwargs)\u001b[0m\n\u001b[0;32m     86\u001b[0m extra_args \u001b[39m=\u001b[39m \u001b[39mlen\u001b[39m(args) \u001b[39m-\u001b[39m \u001b[39mlen\u001b[39m(all_args)\n\u001b[0;32m     87\u001b[0m \u001b[39mif\u001b[39;00m extra_args \u001b[39m<\u001b[39m\u001b[39m=\u001b[39m \u001b[39m0\u001b[39m:\n\u001b[1;32m---> 88\u001b[0m     \u001b[39mreturn\u001b[39;00m f(\u001b[39m*\u001b[39margs, \u001b[39m*\u001b[39m\u001b[39m*\u001b[39mkwargs)\n\u001b[0;32m     90\u001b[0m \u001b[39m# extra_args > 0\u001b[39;00m\n\u001b[0;32m     91\u001b[0m args_msg \u001b[39m=\u001b[39m [\n\u001b[0;32m     92\u001b[0m     \u001b[39m\"\u001b[39m\u001b[39m{}\u001b[39;00m\u001b[39m=\u001b[39m\u001b[39m{}\u001b[39;00m\u001b[39m\"\u001b[39m\u001b[39m.\u001b[39mformat(name, arg)\n\u001b[0;32m     93\u001b[0m     \u001b[39mfor\u001b[39;00m name, arg \u001b[39min\u001b[39;00m \u001b[39mzip\u001b[39m(kwonly_args[:extra_args], args[\u001b[39m-\u001b[39mextra_args:])\n\u001b[0;32m     94\u001b[0m ]\n",
      "File \u001b[1;32mc:\\Users\\pgdew\\miniconda3\\lib\\site-packages\\librosa\\core\\audio.py:170\u001b[0m, in \u001b[0;36mload\u001b[1;34m(path, sr, mono, offset, duration, dtype, res_type)\u001b[0m\n\u001b[0;32m    168\u001b[0m \u001b[39mif\u001b[39;00m \u001b[39misinstance\u001b[39m(path, (\u001b[39mstr\u001b[39m, pathlib\u001b[39m.\u001b[39mPurePath)):\n\u001b[0;32m    169\u001b[0m     warnings\u001b[39m.\u001b[39mwarn(\u001b[39m\"\u001b[39m\u001b[39mPySoundFile failed. Trying audioread instead.\u001b[39m\u001b[39m\"\u001b[39m, stacklevel\u001b[39m=\u001b[39m\u001b[39m2\u001b[39m)\n\u001b[1;32m--> 170\u001b[0m     y, sr_native \u001b[39m=\u001b[39m __audioread_load(path, offset, duration, dtype)\n\u001b[0;32m    171\u001b[0m \u001b[39melse\u001b[39;00m:\n\u001b[0;32m    172\u001b[0m     \u001b[39mraise\u001b[39;00m exc\n",
      "File \u001b[1;32mc:\\Users\\pgdew\\miniconda3\\lib\\site-packages\\librosa\\core\\audio.py:226\u001b[0m, in \u001b[0;36m__audioread_load\u001b[1;34m(path, offset, duration, dtype)\u001b[0m\n\u001b[0;32m    223\u001b[0m     reader \u001b[39m=\u001b[39m path\n\u001b[0;32m    224\u001b[0m \u001b[39melse\u001b[39;00m:\n\u001b[0;32m    225\u001b[0m     \u001b[39m# If the input was not an audioread object, try to open it\u001b[39;00m\n\u001b[1;32m--> 226\u001b[0m     reader \u001b[39m=\u001b[39m audioread\u001b[39m.\u001b[39;49maudio_open(path)\n\u001b[0;32m    228\u001b[0m \u001b[39mwith\u001b[39;00m reader \u001b[39mas\u001b[39;00m input_file:\n\u001b[0;32m    229\u001b[0m     sr_native \u001b[39m=\u001b[39m input_file\u001b[39m.\u001b[39msamplerate\n",
      "File \u001b[1;32mc:\\Users\\pgdew\\miniconda3\\lib\\site-packages\\audioread\\__init__.py:127\u001b[0m, in \u001b[0;36maudio_open\u001b[1;34m(path, backends)\u001b[0m\n\u001b[0;32m    125\u001b[0m \u001b[39mfor\u001b[39;00m BackendClass \u001b[39min\u001b[39;00m backends:\n\u001b[0;32m    126\u001b[0m     \u001b[39mtry\u001b[39;00m:\n\u001b[1;32m--> 127\u001b[0m         \u001b[39mreturn\u001b[39;00m BackendClass(path)\n\u001b[0;32m    128\u001b[0m     \u001b[39mexcept\u001b[39;00m DecodeError:\n\u001b[0;32m    129\u001b[0m         \u001b[39mpass\u001b[39;00m\n",
      "File \u001b[1;32mc:\\Users\\pgdew\\miniconda3\\lib\\site-packages\\audioread\\rawread.py:59\u001b[0m, in \u001b[0;36mRawAudioFile.__init__\u001b[1;34m(self, filename)\u001b[0m\n\u001b[0;32m     58\u001b[0m \u001b[39mdef\u001b[39;00m \u001b[39m__init__\u001b[39m(\u001b[39mself\u001b[39m, filename):\n\u001b[1;32m---> 59\u001b[0m     \u001b[39mself\u001b[39m\u001b[39m.\u001b[39m_fh \u001b[39m=\u001b[39m \u001b[39mopen\u001b[39;49m(filename, \u001b[39m'\u001b[39;49m\u001b[39mrb\u001b[39;49m\u001b[39m'\u001b[39;49m)\n\u001b[0;32m     61\u001b[0m     \u001b[39mtry\u001b[39;00m:\n\u001b[0;32m     62\u001b[0m         \u001b[39mself\u001b[39m\u001b[39m.\u001b[39m_file \u001b[39m=\u001b[39m aifc\u001b[39m.\u001b[39mopen(\u001b[39mself\u001b[39m\u001b[39m.\u001b[39m_fh)\n",
      "\u001b[1;31mFileNotFoundError\u001b[0m: [Errno 2] No such file or directory: 'C:/Users/pgdew/Music/Rosendale - Two Hearts.wav'"
     ]
    }
   ],
   "source": [
    "filename = \"C:/Users/pgdew/Music/Rosendale - Two Hearts.wav\"\n",
    "time_series, sample_rate = librosa.load(filename)  # getting information from the file\n",
    "\n",
    "# getting a matrix which contains amplitude values according to frequency and time indexes\n",
    "stft = np.abs(librosa.stft(time_series, hop_length=512, n_fft=2048*4))\n",
    "spectrogram = librosa.amplitude_to_db(stft, ref=np.max)  # converting the matrix to decibel matrix\n",
    "frequencies = librosa.core.fft_frequencies(n_fft=2048*4)  # getting an array of frequencies\n",
    "\n",
    "# getting an array of time periodic\n",
    "times = librosa.core.frames_to_time(np.arange(spectrogram.shape[1]), sr=sample_rate, hop_length=512, n_fft=2048*4)\n",
    "time_index_ratio = len(times)/times[len(times) - 1]\n",
    "frequencies_index_ratio = len(frequencies)/frequencies[len(frequencies)-1]"
   ]
  },
  {
   "cell_type": "code",
   "execution_count": null,
   "id": "d7e949ac",
   "metadata": {},
   "outputs": [],
   "source": [
    "\n",
    "def get_decibel(target_time, freq):\n",
    "    return spectrogram[int(freq * frequencies_index_ratio)][int(target_time * time_index_ratio)]"
   ]
  },
  {
   "cell_type": "code",
   "execution_count": null,
   "id": "c15e9012",
   "metadata": {},
   "outputs": [],
   "source": [
    "pygame.init()\n",
    "infoObject = pygame.display.Info()\n",
    "screen_w = int(infoObject.current_w/2.5)\n",
    "screen_h = int(infoObject.current_w/2.5)\n",
    "\n",
    "# Set up the drawing window\n",
    "screen = pygame.display.set_mode([screen_w, screen_h])\n",
    "\n",
    "\n",
    "bars = []\n",
    "\n",
    "\n",
    "frequencies = np.arange(100, 8000, 100)\n",
    "\n",
    "r = len(frequencies)\n",
    "\n",
    "\n",
    "width = screen_w/r\n",
    "\n",
    "\n",
    "x = (screen_w - width*r)/2\n",
    "\n",
    "for c in frequencies:\n",
    "    bars.append(AudioBar(x, 300, c, (255, 0, 0), max_height=400, width=width))\n",
    "    x += width\n",
    "\n",
    "t = pygame.time.get_ticks()\n",
    "getTicksLastFrame = t\n",
    "\n",
    "pygame.mixer.music.load(filename)\n",
    "pygame.mixer.music.play(0)\n",
    "\n",
    "# Run until the user asks to quit\n",
    "running = True\n",
    "while running:\n",
    "    t = pygame.time.get_ticks()\n",
    "    deltaTime = (t - getTicksLastFrame) / 1000.0\n",
    "    getTicksLastFrame = t\n",
    "\n",
    "    # Did the user click the window close button?\n",
    "    for event in pygame.event.get():\n",
    "        if event.type == pygame.QUIT:\n",
    "            running = False\n",
    "\n",
    "    # Fill the background with white\n",
    "    screen.fill((255, 255, 255))\n",
    "\n",
    "    for b in bars:\n",
    "        b.update(deltaTime, get_decibel(pygame.mixer.music.get_pos()/1000.0, b.freq))\n",
    "        b.render(screen)\n",
    "\n",
    "    # Flip the display\n",
    "    pygame.display.flip()\n",
    "\n",
    "# Done! Time to quit.\n",
    "pygame.quit()"
   ]
  }
 ],
 "metadata": {
  "kernelspec": {
   "display_name": "Python 3 (ipykernel)",
   "language": "python",
   "name": "python3"
  },
  "language_info": {
   "codemirror_mode": {
    "name": "ipython",
    "version": 3
   },
   "file_extension": ".py",
   "mimetype": "text/x-python",
   "name": "python",
   "nbconvert_exporter": "python",
   "pygments_lexer": "ipython3",
   "version": "3.10.9"
  }
 },
 "nbformat": 4,
 "nbformat_minor": 5
}
